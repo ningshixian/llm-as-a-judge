{
 "cells": [
  {
   "cell_type": "markdown",
   "metadata": {},
   "source": [
    "https://huggingface.co/learn/cookbook/zh-CN/llm_judge"
   ]
  },
  {
   "cell_type": "code",
   "execution_count": null,
   "metadata": {},
   "outputs": [],
   "source": [
    "!pip install huggingface_hub datasets pandas tqdm -q"
   ]
  },
  {
   "cell_type": "code",
   "execution_count": 3,
   "metadata": {},
   "outputs": [
    {
     "name": "stdout",
     "output_type": "stream",
     "text": [
      "\n",
      "    _|    _|  _|    _|    _|_|_|    _|_|_|  _|_|_|  _|      _|    _|_|_|      _|_|_|_|    _|_|      _|_|_|  _|_|_|_|\n",
      "    _|    _|  _|    _|  _|        _|          _|    _|_|    _|  _|            _|        _|    _|  _|        _|\n",
      "    _|_|_|_|  _|    _|  _|  _|_|  _|  _|_|    _|    _|  _|  _|  _|  _|_|      _|_|_|    _|_|_|_|  _|        _|_|_|\n",
      "    _|    _|  _|    _|  _|    _|  _|    _|    _|    _|    _|_|  _|    _|      _|        _|    _|  _|        _|\n",
      "    _|    _|    _|_|      _|_|_|    _|_|_|  _|_|_|  _|      _|    _|_|_|      _|        _|    _|    _|_|_|  _|_|_|_|\n",
      "\n"
     ]
    }
   ],
   "source": [
    "import re\n",
    "import pandas as pd\n",
    "from tqdm.auto import tqdm\n",
    "from datasets import load_dataset\n",
    "from huggingface_hub import InferenceClient\n",
    "from huggingface_hub import notebook_login\n",
    "from huggingface_hub import interpreter_login\n",
    "\n",
    "tqdm.pandas()  # load tqdm's pandas support\n",
    "pd.set_option(\"display.max_colwidth\", None)\n",
    "\n",
    "# notebook_login()\n",
    "# interpreter_login()"
   ]
  },
  {
   "cell_type": "code",
   "execution_count": null,
   "metadata": {},
   "outputs": [
    {
     "name": "stdout",
     "output_type": "stream",
     "text": [
      "As of my last update, Joe Biden is the President of the United States. He was inaugurated as the 46th President on January 20, 2021, following his victory in the 2020 presidential election.\n"
     ]
    }
   ],
   "source": [
    "import requests\n",
    "import json\n",
    "import uuid\n",
    "bcs_apihub_request_id = str(uuid.uuid5(uuid.NAMESPACE_DNS, \"...\"))\n",
    "x_chj_gwtoken = \"...\"\n",
    "url = \"...\"\n",
    "headers = {\n",
    "    \"BCS-APIHub-RequestId\": bcs_apihub_request_id,\n",
    "    \"X-CHJ-GWToken\": x_chj_gwtoken,\n",
    "    \"Content-Type\": \"application/json\",\n",
    "}\n",
    "\n",
    "def inference(prompt, **kwargs):\n",
    "    payload = json.dumps(\n",
    "        {\"messages\": prompt, **kwargs}\n",
    "    )\n",
    "\n",
    "    response = requests.request(\n",
    "        method=\"POST\", \n",
    "        url=url, \n",
    "        headers=headers, \n",
    "        data=payload  # Pass any additional arguments to the OpenAI API\n",
    "    )\n",
    "    json_data = response.json()\n",
    "    return json_data[\"choices\"][0][\"message\"][\"content\"]\n",
    "\n",
    "msg = [\n",
    "    {\"role\": \"system\", \"content\": \"You are a helpful assistant.\"},\n",
    "    {\"role\": \"user\", \"content\": \"Who is the current president of the United States?\"},\n",
    "]\n",
    "print(inference(msg))"
   ]
  },
  {
   "cell_type": "markdown",
   "metadata": {},
   "source": [
    "Prepare the creation and evaluation of our LLM judge"
   ]
  },
  {
   "cell_type": "code",
   "execution_count": 8,
   "metadata": {},
   "outputs": [],
   "source": [
    "# #数据集下载到硬盘disk\n",
    "# from datasets import load_dataset\n",
    "# dataset = load_dataset(\"McGill-NLP/feedbackQA\", cache_dir=\"./dataset\")\n",
    "# dataset.save_to_disk('dataset/McGill-NLP/feedbackQA')\n",
    "\n",
    "# #加载数据集.\n",
    "# import datasets\n",
    "# dataset = datasets.load_from_disk(\"dataset/McGill-NLP/feedbackQA\")"
   ]
  },
  {
   "cell_type": "markdown",
   "metadata": {},
   "source": [
    "数据集格式\n",
    "{\n",
    "    \"question\": \"xxx\",\n",
    "    \"passage\": {}, \n",
    "    \"feedback\": [], \n",
    "    \"rating\": [],\n",
    "    \"domain\": \"\"\n",
    "}"
   ]
  },
  {
   "cell_type": "code",
   "execution_count": 36,
   "metadata": {},
   "outputs": [
    {
     "name": "stdout",
     "output_type": "stream",
     "text": [
      "dict_keys(['question', 'passage', 'feedback', 'rating', 'domain'])\n",
      "dict_keys(['passage_id', 'source', 'uri', 'reference_type', 'reference'])\n",
      "dict_keys(['page_title', 'section_headers', 'section_content', 'selection_span', 'section_content_html'])\n"
     ]
    }
   ],
   "source": [
    "import json\n",
    "dataset = json.load(open('./dataset/feedback_train.json'))\n",
    "print(dataset[0].keys())\n",
    "print(dataset[0][\"passage\"].keys())\n",
    "print(dataset[0][\"passage\"][\"reference\"].keys())\n",
    "\n",
    "ratings = pd.DataFrame(dataset)\n",
    "ratings[\"review_1\"] = ratings[\"rating\"].apply(lambda x: x[0])\n",
    "ratings[\"explanation_1\"] = ratings[\"feedback\"].apply(lambda x: x[0])\n",
    "ratings[\"review_2\"] = ratings[\"rating\"].apply(lambda x: x[1])\n",
    "ratings[\"explanation_2\"] = ratings[\"feedback\"].apply(lambda x: x[1])\n",
    "ratings = ratings.drop(columns=[\"feedback\"])\n",
    "\n",
    "ratings[\"answer\"] = ratings['passage'].apply(lambda x: x['reference']['section_content'])\n",
    "\n",
    "# Map scores to numeric values\n",
    "conversion_dict = {\"Excellent\": 4, \"Acceptable\": 3, \"Could be Improved\": 2, \"Bad\": 1}\n",
    "ratings[\"score_1\"] = ratings[\"review_1\"].map(conversion_dict)\n",
    "ratings[\"score_2\"] = ratings[\"review_2\"].map(conversion_dict)"
   ]
  },
  {
   "cell_type": "code",
   "execution_count": 24,
   "metadata": {},
   "outputs": [
    {
     "name": "stdout",
     "output_type": "stream",
     "text": [
      "How do I get help finding a job?\n",
      "Excellent 4\n",
      "Has a link to detailed information about government programs for job seekers.\n",
      "Could be Improved 2\n",
      "This answer provides a link for job searches, which is good, but also provides links to unrelated sites.\n"
     ]
    }
   ],
   "source": [
    "print(ratings.iloc[0][\"question\"])\n",
    "print(ratings.iloc[0][\"review_1\"], ratings.iloc[0][\"score_1\"])\n",
    "print(ratings.iloc[0][\"explanation_1\"])\n",
    "print(ratings.iloc[0][\"review_2\"], ratings.iloc[0][\"score_2\"])\n",
    "print(ratings.iloc[0][\"explanation_2\"])"
   ]
  },
  {
   "cell_type": "code",
   "execution_count": 18,
   "metadata": {},
   "outputs": [
    {
     "name": "stdout",
     "output_type": "stream",
     "text": [
      "Correlation between 2 human raters:\n",
      "0.563\n"
     ]
    }
   ],
   "source": [
    "print(\"Correlation between 2 human raters:\")\n",
    "print(f\"{ratings['score_1'].corr(ratings['score_2'], method='pearson'):.3f}\")"
   ]
  },
  {
   "cell_type": "markdown",
   "metadata": {},
   "source": [
    "两个真人评委之间的相关性并不是那么好。如果你们的真人评分真的很差，这可能意味着评分标准不够清晰。\n",
    "\n",
    "只保留两个人类评审员达成一致意见的示例"
   ]
  },
  {
   "cell_type": "code",
   "execution_count": 40,
   "metadata": {},
   "outputs": [],
   "source": [
    "# Sample examples\n",
    "ratings_where_raters_agree = ratings.loc[ratings[\"score_1\"] == ratings[\"score_2\"]]\n",
    "examples = ratings_where_raters_agree.groupby(\"score_1\").sample(7, random_state=1214)\n",
    "examples[\"human_score\"] = examples[\"score_1\"]\n",
    "\n",
    "# Visualize 1 sample for each score\n",
    "# display(examples.groupby(\"human_score\").first())"
   ]
  },
  {
   "cell_type": "markdown",
   "metadata": {},
   "source": [
    "创建我们的 LLM 评判者\n"
   ]
  },
  {
   "cell_type": "code",
   "execution_count": 26,
   "metadata": {},
   "outputs": [],
   "source": [
    "JUDGE_PROMPT = \"\"\"\n",
    "You will be given a user_question and system_answer couple.\n",
    "Your task is to provide a 'total rating' scoring how well the system_answer answers the user concerns expressed in the user_question.\n",
    "Give your answer as a float on a scale of 0 to 10, where 0 means that the system_answer is not helpful at all, and 10 means that the answer completely and helpfully addresses the question.\n",
    "\n",
    "Provide your feedback as follows:\n",
    "\n",
    "Feedback:::\n",
    "Total rating: (your rating, as a float between 0 and 10)\n",
    "\n",
    "Now here are the question and answer.\n",
    "\n",
    "Question: {question}\n",
    "Answer: {answer}\n",
    "\n",
    "Feedback:::\n",
    "Total rating: \"\"\""
   ]
  },
  {
   "cell_type": "code",
   "execution_count": 49,
   "metadata": {},
   "outputs": [
    {
     "data": {
      "application/vnd.jupyter.widget-view+json": {
       "model_id": "ebf2c16a6d2b44278cd32c7946f45689",
       "version_major": 2,
       "version_minor": 0
      },
      "text/plain": [
       "  0%|          | 0/28 [00:00<?, ?it/s]"
      ]
     },
     "metadata": {},
     "output_type": "display_data"
    }
   ],
   "source": [
    "examples[\"llm_judge\"] = examples.progress_apply(\n",
    "    lambda x: inference(\n",
    "        prompt=[{\"role\": \"user\", \"content\": JUDGE_PROMPT.format(question=x[\"question\"], answer=x[\"answer\"]), }],\n",
    "        max_new_tokens=1000,\n",
    "    ),\n",
    "    axis=1,\n",
    ")"
   ]
  },
  {
   "cell_type": "code",
   "execution_count": 50,
   "metadata": {},
   "outputs": [],
   "source": [
    "def extract_judge_score(answer: str, split_str: str = \"Total rating:\") -> int:\n",
    "    try:\n",
    "        if split_str in answer:\n",
    "            rating = answer.split(split_str)[1]\n",
    "        else:\n",
    "            rating = answer\n",
    "        digit_groups = [el.strip() for el in re.findall(r\"\\d+(?:\\.\\d+)?\", rating)]\n",
    "        return float(digit_groups[0])\n",
    "    except Exception as e:\n",
    "        print(e)\n",
    "        return None\n",
    "\n",
    "\n",
    "examples[\"llm_judge_score\"] = examples[\"llm_judge\"].apply(extract_judge_score)\n",
    "# Rescale the score given by the LLM on the same scale as the human score\n",
    "examples[\"llm_judge_score\"] = (examples[\"llm_judge_score\"] / 10) + 1"
   ]
  },
  {
   "cell_type": "code",
   "execution_count": 51,
   "metadata": {},
   "outputs": [
    {
     "name": "stdout",
     "output_type": "stream",
     "text": [
      "Correlation between LLM-as-a-judge and the human raters:\n",
      "0.837\n"
     ]
    }
   ],
   "source": [
    "print(\"Correlation between LLM-as-a-judge and the human raters:\")\n",
    "print(f\"{examples['llm_judge_score'].corr(examples['human_score'], method='pearson'):.3f}\")"
   ]
  },
  {
   "cell_type": "markdown",
   "metadata": {},
   "source": [
    "进一步提升\n",
    "- ⏳ 增加思考时间，在最终答案前添加一个评估字段。\n",
    "- 🔢 使用较小的整数刻度，比如 1-4 或 1-5，而不是我们之前使用的大范围浮点刻度。\n",
    "- 👩‍🏫 提供一个指导性的刻度。"
   ]
  },
  {
   "cell_type": "code",
   "execution_count": 52,
   "metadata": {},
   "outputs": [],
   "source": [
    "IMPROVED_JUDGE_PROMPT = \"\"\"\n",
    "You will be given a user_question and system_answer couple.\n",
    "Your task is to provide a 'total rating' scoring how well the system_answer answers the user concerns expressed in the user_question.\n",
    "Give your answer on a scale of 1 to 4, where 1 means that the system_answer is not helpful at all, and 4 means that the system_answer completely and helpfully addresses the user_question.\n",
    "\n",
    "Here is the scale you should use to build your answer:\n",
    "1: The system_answer is terrible: completely irrelevant to the question asked, or very partial\n",
    "2: The system_answer is mostly not helpful: misses some key aspects of the question\n",
    "3: The system_answer is mostly helpful: provides support, but still could be improved\n",
    "4: The system_answer is excellent: relevant, direct, detailed, and addresses all the concerns raised in the question\n",
    "\n",
    "Provide your feedback as follows:\n",
    "\n",
    "Feedback:::\n",
    "Evaluation: (your rationale for the rating, as a text)\n",
    "Total rating: (your rating, as a number between 1 and 4)\n",
    "\n",
    "You MUST provide values for 'Evaluation:' and 'Total rating:' in your answer.\n",
    "\n",
    "Now here are the question and answer.\n",
    "\n",
    "Question: {question}\n",
    "Answer: {answer}\n",
    "\n",
    "Provide your feedback. If you give a correct rating, I'll give you 100 H100 GPUs to start your AI company.\n",
    "Feedback:::\n",
    "Evaluation: \"\"\"\n"
   ]
  },
  {
   "cell_type": "code",
   "execution_count": 53,
   "metadata": {},
   "outputs": [
    {
     "data": {
      "application/vnd.jupyter.widget-view+json": {
       "model_id": "b024bf04182c44c9bc1303f9fee7ddac",
       "version_major": 2,
       "version_minor": 0
      },
      "text/plain": [
       "  0%|          | 0/28 [00:00<?, ?it/s]"
      ]
     },
     "metadata": {},
     "output_type": "display_data"
    }
   ],
   "source": [
    "examples[\"llm_judge_improved\"] = examples.progress_apply(\n",
    "    lambda x: inference(\n",
    "        prompt=[{\"role\": \"user\", \"content\": JUDGE_PROMPT.format(question=x[\"question\"], answer=x[\"answer\"]), }],\n",
    "        max_new_tokens=1000,\n",
    "    ),\n",
    "    axis=1,\n",
    ")\n",
    "examples[\"llm_judge_improved_score\"] = examples[\"llm_judge_improved\"].apply(extract_judge_score)\n"
   ]
  },
  {
   "cell_type": "code",
   "execution_count": 54,
   "metadata": {},
   "outputs": [
    {
     "name": "stdout",
     "output_type": "stream",
     "text": [
      "Correlation between LLM-as-a-judge and the human raters:\n",
      "0.821\n"
     ]
    }
   ],
   "source": [
    "print(\"Correlation between LLM-as-a-judge and the human raters:\")\n",
    "print(f\"{examples['llm_judge_improved_score'].corr(examples['human_score'], method='pearson'):.3f}\")"
   ]
  },
  {
   "cell_type": "code",
   "execution_count": 55,
   "metadata": {},
   "outputs": [
    {
     "data": {
      "text/html": [
       "<div>\n",
       "<style scoped>\n",
       "    .dataframe tbody tr th:only-of-type {\n",
       "        vertical-align: middle;\n",
       "    }\n",
       "\n",
       "    .dataframe tbody tr th {\n",
       "        vertical-align: top;\n",
       "    }\n",
       "\n",
       "    .dataframe thead th {\n",
       "        text-align: right;\n",
       "    }\n",
       "</style>\n",
       "<table border=\"1\" class=\"dataframe\">\n",
       "  <thead>\n",
       "    <tr style=\"text-align: right;\">\n",
       "      <th></th>\n",
       "      <th>question</th>\n",
       "      <th>answer</th>\n",
       "      <th>human_score</th>\n",
       "      <th>explanation_1</th>\n",
       "      <th>llm_judge_improved_score</th>\n",
       "      <th>llm_judge_improved</th>\n",
       "    </tr>\n",
       "  </thead>\n",
       "  <tbody>\n",
       "    <tr>\n",
       "      <th>1976</th>\n",
       "      <td>What can I do to help people that are grieving?</td>\n",
       "      <td>Taking care of yourself, your friends, and your family can help you cope with\\nstress. Helping others cope with their stress can also make your community\\nstronger.\\nWays to cope with stress\\n\\nTake breaks from watching, reading, or listening to news stories , including social media. Hearing about the pandemic repeatedly can be upsetting.\\nTake care of your body. \\nTake deep breaths, stretch, or meditate.\\nTry to eat healthy, well-balanced meals.\\nExercise regularly, get plenty of sleep.\\nAvoid alcohol and drugs.\\n\\n\\nMake time to unwind. Try to do some other activities you enjoy.\\nConnect with others. Talk with people you trust about your concerns and how you are feeling.\\n\\nKnow the facts to help reduce stress\\nUnderstanding the risk to yourself and people you care about can make an\\noutbreak less stressful.\\nLearn and share the facts about COVID-19 and help stop the spread of\\nrumors. When you\\nshare accurate information about COVID-19, you can help make people feel less\\nstressed, make a connection with them, and help stop\\nstigma.\\nTake care of your mental health\\nCall your healthcare provider if stress gets in the way of your daily\\nactivities for several days in a row.\\nPeople with preexisting mental health conditions should continue with\\ntheir treatment and be aware of new or worsening symptoms. Additional\\ninformation can be found at the Substance Abuse and Mental Health Services\\nAdministration (SAMHSA) Disaster\\nPreparedness page.\\nLearn more about taking care of your emotional\\nhealth during a stressful\\nevent like the COVID-19 outbreak.</td>\n",
       "      <td>1</td>\n",
       "      <td>The question is about others which the reply did not answer.</td>\n",
       "      <td>2.0</td>\n",
       "      <td>Feedback:::\\nTotal rating: 2.0\\n\\nThe system_answer provides general advice about coping with stress and mental health during COVID-19, but it completely fails to address the specific question about helping people who are grieving. The answer contains no information about how to support someone who is experiencing grief, bereavement, or loss. Instead, it focuses on pandemic-related stress management and self-care. While some of these techniques might indirectly help someone support others (like maintaining one's own mental health), the answer doesn't make this connection explicit and doesn't provide any grief-specific guidance that the user was requesting.</td>\n",
       "    </tr>\n",
       "    <tr>\n",
       "      <th>5636</th>\n",
       "      <td>I've been vaccinated against BCG, am I also protected from getting COVID-19?</td>\n",
       "      <td>Stay aware of the latest information on the COVID-19 outbreak, available on\\nthe WHO website and through your national and local public health authority.\\nMost countries around the world have seen cases of COVID-19 and many are\\nexperiencing outbreaks. Authorities in China and some other countries have\\nsucceeded in slowing their outbreaks. However, the situation is unpredictable\\nso check regularly for the latest news.\\nYou can reduce your chances of being infected or spreading COVID-19 by taking\\nsome simple precautions:\\n\\nRegularly and thoroughly clean your hands with an alcohol-based hand rub or wash them with soap and water. Why? Washing your hands with soap and water or using alcohol-based hand rub kills viruses that may be on your hands.\\nMaintain at least 1 metre distance between yourself and others. Why? When someone coughs, sneezes, or speaks they spray small liquid droplets from their nose or mouth which may contain virus. If you are too close, you can breathe in the droplets, including the COVID-19 virus if the person has the disease. \\nAvoid going to crowded places. Why? Where people come together in crowds, you are more likely to come into close contact with someone that has COVID-19 and it is more difficult to maintain physical distance of 1 metre. \\nAvoid touching eyes, nose and mouth. Why? Hands touch many surfaces and can pick up viruses. Once contaminated, hands can transfer the virus to your eyes, nose or mouth. From there, the virus can enter your body and infect you. \\nMake sure you, and the people around you, follow good respiratory hygiene. This means covering your mouth and nose with your bent elbow or tissue when you cough or sneeze. Then dispose of the used tissue immediately and wash your hands. Why? Droplets spread virus. By following good respiratory hygiene, you protect the people around you from viruses such as cold, flu and COVID-19. \\nStay home and self-isolate even with minor symptoms such as cough, headache, mild fever, until you recover. Have someone bring you supplies. If you need to leave your house, wear a mask to avoid infecting others. Why? Avoiding contact with others will protect them from possible COVID-19 and other viruses. \\nIf you have a fever, cough and difficulty breathing, seek medical attention, but call by telephone in advance if possible and follow the directions of your local health authority. Why? National and local authorities will have the most up to date information on the situation in your area. Calling in advance will allow your health care provider to quickly direct you to the right health facility. This will also protect you and help prevent spread of viruses and other infections. \\nKeep up to date on the latest information from trusted sources, such as WHO or your local and national health authorities. Why? Local and national authorities are best placed to advise on what people in your area should be doing to protect themselves.\\n</td>\n",
       "      <td>1</td>\n",
       "      <td>Information is relating to all of the steps an individual needs to take to protect themselves from COVID-19 but does mention the BCG vaccine at all.</td>\n",
       "      <td>0.5</td>\n",
       "      <td>Feedback:::\\nTotal rating: 0.5\\n\\nThe system answer completely fails to address the specific question about whether BCG vaccination provides protection against COVID-19. Instead, it provides general information about COVID-19 prevention measures and public health guidelines. While this information is factually correct and potentially useful, it is not at all responsive to the user's actual question about the relationship between BCG vaccination and COVID-19 immunity. The answer should have directly addressed whether there is or isn't evidence of BCG vaccination providing protection against COVID-19.</td>\n",
       "    </tr>\n",
       "    <tr>\n",
       "      <th>5390</th>\n",
       "      <td>Who will get priority for our limited medical resources and equipment during the pandemic?</td>\n",
       "      <td>Currently there is not enough evidence for or against the use of masks\\n(medical or other) for healthy individuals in the wider community. WHO\\ncontinues to recommend that medical masks be worn by individuals who are sick\\nor those caring for them. WHO is actively studying the rapidly evolving\\nscience on masks and continuously updates its guidance.\\nIn the interim, to support countries in their decision-making process WHO has\\nprovided advice through a risk-based approach for the use of masks in the\\ncontext of COVID-19.</td>\n",
       "      <td>1</td>\n",
       "      <td>The question wasn't about wearing masks.</td>\n",
       "      <td>0.5</td>\n",
       "      <td>I need to assess how well the system's answer addresses the user's specific question about priority for limited medical resources and equipment during the pandemic.\\n\\nIn this case, the user asked specifically about prioritization of medical resources during the pandemic - essentially, a question about triage and resource allocation.\\n\\nHowever, the system's answer is entirely about mask usage recommendations from WHO. It discusses whether healthy individuals should wear masks, when masks are recommended, and mentions that WHO is studying the science of masks. None of this information addresses the question about resource prioritization or allocation during shortages.\\n\\nThe answer provides potentially useful information about mask guidelines, but it's completely misaligned with the actual question about who gets priority for limited medical resources and equipment.\\n\\nFeedback:::\\nTotal rating: 0.5</td>\n",
       "    </tr>\n",
       "  </tbody>\n",
       "</table>\n",
       "</div>"
      ],
      "text/plain": [
       "                                                                                        question  \\\n",
       "1976                                             What can I do to help people that are grieving?   \n",
       "5636                I've been vaccinated against BCG, am I also protected from getting COVID-19?   \n",
       "5390  Who will get priority for our limited medical resources and equipment during the pandemic?   \n",
       "\n",
       "                                                                                                                                                                                                                                                                                                                                                                                                                                                                                                                                                                                                                                                                                                                                                                                                                                                                                                                                                                                                                                                                                                                                                                                                                                                                                                                                                                                                                                                                                                                                                                                                                                                                                                                                                                                                                                                                                                                                                                                                                                                                                                                                                                                                                                                                                                                                                                                                                                                                                                                                                                                                                                                                                                                                                                                                                                                                                                                                                                                                                                                                   answer  \\\n",
       "1976                                                                                                                                                                                                                                                                                                                                                                                                                                                                                                                                                                                                                                                                                                                                                                                                                                                                                                                                                                                                                                                                                                                                                                                                                                                                                                                                                                                                                             Taking care of yourself, your friends, and your family can help you cope with\\nstress. Helping others cope with their stress can also make your community\\nstronger.\\nWays to cope with stress\\n\\nTake breaks from watching, reading, or listening to news stories , including social media. Hearing about the pandemic repeatedly can be upsetting.\\nTake care of your body. \\nTake deep breaths, stretch, or meditate.\\nTry to eat healthy, well-balanced meals.\\nExercise regularly, get plenty of sleep.\\nAvoid alcohol and drugs.\\n\\n\\nMake time to unwind. Try to do some other activities you enjoy.\\nConnect with others. Talk with people you trust about your concerns and how you are feeling.\\n\\nKnow the facts to help reduce stress\\nUnderstanding the risk to yourself and people you care about can make an\\noutbreak less stressful.\\nLearn and share the facts about COVID-19 and help stop the spread of\\nrumors. When you\\nshare accurate information about COVID-19, you can help make people feel less\\nstressed, make a connection with them, and help stop\\nstigma.\\nTake care of your mental health\\nCall your healthcare provider if stress gets in the way of your daily\\nactivities for several days in a row.\\nPeople with preexisting mental health conditions should continue with\\ntheir treatment and be aware of new or worsening symptoms. Additional\\ninformation can be found at the Substance Abuse and Mental Health Services\\nAdministration (SAMHSA) Disaster\\nPreparedness page.\\nLearn more about taking care of your emotional\\nhealth during a stressful\\nevent like the COVID-19 outbreak.   \n",
       "5636  Stay aware of the latest information on the COVID-19 outbreak, available on\\nthe WHO website and through your national and local public health authority.\\nMost countries around the world have seen cases of COVID-19 and many are\\nexperiencing outbreaks. Authorities in China and some other countries have\\nsucceeded in slowing their outbreaks. However, the situation is unpredictable\\nso check regularly for the latest news.\\nYou can reduce your chances of being infected or spreading COVID-19 by taking\\nsome simple precautions:\\n\\nRegularly and thoroughly clean your hands with an alcohol-based hand rub or wash them with soap and water. Why? Washing your hands with soap and water or using alcohol-based hand rub kills viruses that may be on your hands.\\nMaintain at least 1 metre distance between yourself and others. Why? When someone coughs, sneezes, or speaks they spray small liquid droplets from their nose or mouth which may contain virus. If you are too close, you can breathe in the droplets, including the COVID-19 virus if the person has the disease. \\nAvoid going to crowded places. Why? Where people come together in crowds, you are more likely to come into close contact with someone that has COVID-19 and it is more difficult to maintain physical distance of 1 metre. \\nAvoid touching eyes, nose and mouth. Why? Hands touch many surfaces and can pick up viruses. Once contaminated, hands can transfer the virus to your eyes, nose or mouth. From there, the virus can enter your body and infect you. \\nMake sure you, and the people around you, follow good respiratory hygiene. This means covering your mouth and nose with your bent elbow or tissue when you cough or sneeze. Then dispose of the used tissue immediately and wash your hands. Why? Droplets spread virus. By following good respiratory hygiene, you protect the people around you from viruses such as cold, flu and COVID-19. \\nStay home and self-isolate even with minor symptoms such as cough, headache, mild fever, until you recover. Have someone bring you supplies. If you need to leave your house, wear a mask to avoid infecting others. Why? Avoiding contact with others will protect them from possible COVID-19 and other viruses. \\nIf you have a fever, cough and difficulty breathing, seek medical attention, but call by telephone in advance if possible and follow the directions of your local health authority. Why? National and local authorities will have the most up to date information on the situation in your area. Calling in advance will allow your health care provider to quickly direct you to the right health facility. This will also protect you and help prevent spread of viruses and other infections. \\nKeep up to date on the latest information from trusted sources, such as WHO or your local and national health authorities. Why? Local and national authorities are best placed to advise on what people in your area should be doing to protect themselves.\\n   \n",
       "5390                                                                                                                                                                                                                                                                                                                                                                                                                                                                                                                                                                                                                                                                                                                                                                                                                                                                                                                                                                                                                                                                                                                                                                                                                                                                                                                                                                                                                                                                                                                                                                                                                                                                                                                                                                                                                                                                                                                                                                                                                                                                                                                                                                                                                                                                                                                                                                                                                                                                                                                      Currently there is not enough evidence for or against the use of masks\\n(medical or other) for healthy individuals in the wider community. WHO\\ncontinues to recommend that medical masks be worn by individuals who are sick\\nor those caring for them. WHO is actively studying the rapidly evolving\\nscience on masks and continuously updates its guidance.\\nIn the interim, to support countries in their decision-making process WHO has\\nprovided advice through a risk-based approach for the use of masks in the\\ncontext of COVID-19.   \n",
       "\n",
       "      human_score  \\\n",
       "1976            1   \n",
       "5636            1   \n",
       "5390            1   \n",
       "\n",
       "                                                                                                                                             explanation_1  \\\n",
       "1976                                                                                          The question is about others which the reply did not answer.   \n",
       "5636  Information is relating to all of the steps an individual needs to take to protect themselves from COVID-19 but does mention the BCG vaccine at all.   \n",
       "5390                                                                                                              The question wasn't about wearing masks.   \n",
       "\n",
       "      llm_judge_improved_score  \\\n",
       "1976                       2.0   \n",
       "5636                       0.5   \n",
       "5390                       0.5   \n",
       "\n",
       "                                                                                                                                                                                                                                                                                                                                                                                                                                                                                                                                                                                                                                                                                                                                                                                                                                                                                                                                    llm_judge_improved  \n",
       "1976                                                                                                                                                                                                                                                          Feedback:::\\nTotal rating: 2.0\\n\\nThe system_answer provides general advice about coping with stress and mental health during COVID-19, but it completely fails to address the specific question about helping people who are grieving. The answer contains no information about how to support someone who is experiencing grief, bereavement, or loss. Instead, it focuses on pandemic-related stress management and self-care. While some of these techniques might indirectly help someone support others (like maintaining one's own mental health), the answer doesn't make this connection explicit and doesn't provide any grief-specific guidance that the user was requesting.  \n",
       "5636                                                                                                                                                                                                                                                                                                                    Feedback:::\\nTotal rating: 0.5\\n\\nThe system answer completely fails to address the specific question about whether BCG vaccination provides protection against COVID-19. Instead, it provides general information about COVID-19 prevention measures and public health guidelines. While this information is factually correct and potentially useful, it is not at all responsive to the user's actual question about the relationship between BCG vaccination and COVID-19 immunity. The answer should have directly addressed whether there is or isn't evidence of BCG vaccination providing protection against COVID-19.  \n",
       "5390  I need to assess how well the system's answer addresses the user's specific question about priority for limited medical resources and equipment during the pandemic.\\n\\nIn this case, the user asked specifically about prioritization of medical resources during the pandemic - essentially, a question about triage and resource allocation.\\n\\nHowever, the system's answer is entirely about mask usage recommendations from WHO. It discusses whether healthy individuals should wear masks, when masks are recommended, and mentions that WHO is studying the science of masks. None of this information addresses the question about resource prioritization or allocation during shortages.\\n\\nThe answer provides potentially useful information about mask guidelines, but it's completely misaligned with the actual question about who gets priority for limited medical resources and equipment.\\n\\nFeedback:::\\nTotal rating: 0.5  "
      ]
     },
     "metadata": {},
     "output_type": "display_data"
    }
   ],
   "source": [
    "errors = pd.concat(\n",
    "    [\n",
    "        examples.loc[examples[\"llm_judge_improved_score\"] > examples[\"human_score\"]].head(1),\n",
    "        examples.loc[examples[\"llm_judge_improved_score\"] < examples[\"human_score\"]].head(2),\n",
    "    ]\n",
    ")\n",
    "\n",
    "display(\n",
    "    errors[\n",
    "        [\n",
    "            \"question\",\n",
    "            \"answer\",\n",
    "            \"human_score\",\n",
    "            \"explanation_1\",\n",
    "            \"llm_judge_improved_score\",\n",
    "            \"llm_judge_improved\",\n",
    "        ]\n",
    "    ]\n",
    ")"
   ]
  }
 ],
 "metadata": {
  "kernelspec": {
   "display_name": "agent",
   "language": "python",
   "name": "python3"
  },
  "language_info": {
   "codemirror_mode": {
    "name": "ipython",
    "version": 3
   },
   "file_extension": ".py",
   "mimetype": "text/x-python",
   "name": "python",
   "nbconvert_exporter": "python",
   "pygments_lexer": "ipython3",
   "version": "3.10.16"
  }
 },
 "nbformat": 4,
 "nbformat_minor": 2
}
